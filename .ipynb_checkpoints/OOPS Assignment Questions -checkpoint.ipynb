{
 "cells": [
  {
   "cell_type": "markdown",
   "id": "919d9ec8-b468-4f40-af92-6c2030d9a945",
   "metadata": {},
   "source": [
    "##### 1. What are the five key concepts of Object-Oriented Programming (OOP)?"
   ]
  },
  {
   "cell_type": "code",
   "execution_count": null,
   "id": "2c849500-28be-4bf1-a2b8-8c8ecdd1e30f",
   "metadata": {},
   "outputs": [],
   "source": [
    "# 1.Classes and Objects:\n",
    "# Class: A blueprint for creating objects (a particular data structure), which defines a set of attributes and methods that the object will have.\n",
    "# Object: An instance of a class. Objects are the real-world entities that are created using the class blueprint.\n",
    "\n",
    "# 2.Encapsulation:\n",
    "# The concept of wrapping the data (attributes) and methods (functions) that operate on the data into a single unit, i.e., a class. It restricts direct access to some of an object's components, which is useful for preventing unintended interference and misuse of data.\n",
    "\n",
    "# 3.Abstraction:\n",
    "# The process of hiding complex implementation details and showing only the essential features of the object. Abstraction allows focusing on what an object does instead of how it does it.\n",
    "\n",
    "# 4.Inheritance:\n",
    "# A mechanism where a new class (child class) inherits properties and behaviors (attributes and methods) from an existing class (parent class). This promotes code reuse and can also add new attributes or methods to the child class.\n",
    "\n",
    "# 5.Polymorphism:\n",
    "# The ability of objects of different classes to respond to the same method call in different ways. Polymorphism allows methods to be used interchangeably between different object types, provided they share the same method signature.\n",
    "\n",
    "# These concepts together help in organizing complex programs into simple, reusable code structures."
   ]
  },
  {
   "cell_type": "markdown",
   "id": "ddc1f5bf-5dff-4011-b8d0-0c964ee99737",
   "metadata": {},
   "source": [
    "##### 2. Write a Python class for a `Car` with attributes for `make`, `model`, and `year`. Include a method to display the car's information."
   ]
  },
  {
   "cell_type": "code",
   "execution_count": 1,
   "id": "d1da5140-eafb-49fa-a05d-8bc994998083",
   "metadata": {},
   "outputs": [
    {
     "name": "stdout",
     "output_type": "stream",
     "text": [
      "Car Information: 2021 Toyota Camry\n"
     ]
    }
   ],
   "source": [
    "class Car:\n",
    "    def __init__(self, make, model, year):\n",
    "        self.make = make\n",
    "        self.model = model\n",
    "        self.year = year\n",
    "    \n",
    "    def display_info(self):\n",
    "        print(f\"Car Information: {self.year} {self.make} {self.model}\")\n",
    "\n",
    "# Example of how to use the class\n",
    "my_car = Car(\"Toyota\", \"Camry\", 2021)\n",
    "my_car.display_info()"
   ]
  },
  {
   "cell_type": "markdown",
   "id": "48747e65-cc0a-46f6-a85c-c6a6a86553d3",
   "metadata": {},
   "source": [
    "##### 3. Explain the difference between instance methods and class methods. Provide an example of each."
   ]
  },
  {
   "cell_type": "code",
   "execution_count": 2,
   "id": "d974f83e-51d5-4648-8481-6f7b964d3d0a",
   "metadata": {},
   "outputs": [
    {
     "name": "stdout",
     "output_type": "stream",
     "text": [
      "Car Information: 2021 Toyota Camry\n",
      "Total cars sold: 2\n"
     ]
    }
   ],
   "source": [
    "# Instance Methods:\n",
    "\n",
    "# Definition: Instance methods are functions defined inside a class that operate on instances (objects) of that class. They can access and modify the attributes of the instance (object).\n",
    "# Usage: They are called on an instance of the class and automatically receive the instance (self) as the first argument.\n",
    "# Example: Methods that deal with instance-specific data, like modifying an object's attributes or displaying information.\n",
    "\n",
    "class Car:\n",
    "    def __init__(self, make, model, year):\n",
    "        self.make = make\n",
    "        self.model = model\n",
    "        self.year = year\n",
    "    \n",
    "    def display_info(self):\n",
    "        # Instance method: Operates on instance-specific data\n",
    "        print(f\"Car Information: {self.year} {self.make} {self.model}\")\n",
    "\n",
    "# Creating an instance and calling an instance method\n",
    "my_car = Car(\"Toyota\", \"Camry\", 2021)\n",
    "my_car.display_info() \n",
    "\n",
    "# Class Methods:\n",
    "\n",
    "# Definition: Class methods are methods that are bound to the class and not the instance of the class. They can access class-level attributes but not instance-specific data. They are marked with a @classmethod decorator.\n",
    "# Usage: They are called on the class itself, and they automatically receive the class (cls) as the first argument. Class methods are often used for operations that pertain to the class as a whole, such as creating an instance in a specific way or managing class-level data.\n",
    "\n",
    "class Car:\n",
    "    cars_sold = 0  # Class-level attribute\n",
    "    \n",
    "    def __init__(self, make, model, year):\n",
    "        self.make = make\n",
    "        self.model = model\n",
    "        self.year = year\n",
    "        Car.cars_sold += 1  # Increment the class-level attribute\n",
    "    \n",
    "    @classmethod\n",
    "    def total_cars_sold(cls):\n",
    "        # Class method: Operates on class-level data\n",
    "        print(f\"Total cars sold: {cls.cars_sold}\")\n",
    "\n",
    "# Creating instances and calling a class method\n",
    "car1 = Car(\"Toyota\", \"Camry\", 2021)\n",
    "car2 = Car(\"Honda\", \"Civic\", 2022)\n",
    "\n",
    "Car.total_cars_sold()"
   ]
  },
  {
   "cell_type": "markdown",
   "id": "3a085dd6-0a1e-4e7b-a7b8-cd02381c7ca9",
   "metadata": {},
   "source": [
    "##### 4. How does Python implement method overloading? Give an example."
   ]
  },
  {
   "cell_type": "code",
   "execution_count": 3,
   "id": "5b7b2a07-60cb-4721-a187-f70f9efd05bf",
   "metadata": {},
   "outputs": [
    {
     "name": "stdout",
     "output_type": "stream",
     "text": [
      "5\n",
      "15\n",
      "30\n"
     ]
    }
   ],
   "source": [
    "# Method Overloading in Python:\n",
    "# Python does not natively support method overloading in the traditional sense (i.e., defining multiple methods with the same name but different arguments). Instead, Python handles method overloading by allowing you to define a single method that can handle different numbers of arguments or types of arguments using default parameters or variable-length argument lists.\n",
    "\n",
    "class Calculator:\n",
    "    def add(self, a, b=0, c=0):\n",
    "        return a + b + c\n",
    "\n",
    "# Creating an instance of the class\n",
    "calc = Calculator()\n",
    "\n",
    "# Method calls with different numbers of arguments\n",
    "print(calc.add(5))         # Output: 5 (Only 'a' is provided)\n",
    "print(calc.add(5, 10))     # Output: 15 (Both 'a' and 'b' are provided)\n",
    "print(calc.add(5, 10, 15)) # Output: 30 (All three arguments are provided)\n"
   ]
  },
  {
   "cell_type": "markdown",
   "id": "30460e7d-f0df-4e1f-b65f-faf3c6b9c14e",
   "metadata": {},
   "source": [
    "##### 5. What are the three types of access modifiers in Python? How are they denoted?"
   ]
  },
  {
   "cell_type": "code",
   "execution_count": 4,
   "id": "53784c98-0188-48fc-8895-b16d7e94ed6d",
   "metadata": {},
   "outputs": [
    {
     "name": "stdout",
     "output_type": "stream",
     "text": [
      "Toyota\n",
      "Toyota Camry\n",
      "Toyota\n",
      "Toyota Camry\n",
      "Toyota Camry\n"
     ]
    }
   ],
   "source": [
    "# # In Python, access modifiers control the accessibility of class attributes and methods. Python has three types of access modifiers: public, protected, and private. Unlike some other programming languages, Python doesn't enforce strict access control but uses naming conventions to indicate the intended level of access.\n",
    "\n",
    "# 1. Public Access Modifier:\n",
    "# Description: Attributes and methods that are publicly accessible can be accessed from anywhere—both inside and outside the class.\n",
    "# How it's denoted: In Python, all class attributes and methods are public by default. No special prefix is required.\n",
    "\n",
    "# Example:\n",
    "class Car:\n",
    "    def __init__(self, make, model):\n",
    "        self.make = make \n",
    "        self.model = model \n",
    "\n",
    "    def display_info(self):  \n",
    "        print(f\"{self.make} {self.model}\")\n",
    "\n",
    "my_car = Car(\"Toyota\", \"Camry\")\n",
    "print(my_car.make) \n",
    "my_car.display_info()  \n",
    "\n",
    "\n",
    "# 2. Protected Access Modifier:\n",
    "# Description: Protected attributes and methods are intended to be accessed only within the class and its subclasses. However, they can still be accessed outside the class if needed (Python doesn't enforce strict access restrictions).\n",
    "# How it's denoted: Protected attributes and methods are prefixed with a single underscore _.\n",
    "\n",
    "# Example:\n",
    "class Car:\n",
    "    def __init__(self, make, model):\n",
    "        self._make = make  # Protected attribute\n",
    "        self._model = model  # Protected attribute\n",
    "\n",
    "    def _display_info(self):  # Protected method\n",
    "        print(f\"{self._make} {self._model}\")\n",
    "\n",
    "my_car = Car(\"Toyota\", \"Camry\")\n",
    "print(my_car._make)  \n",
    "my_car._display_info() \n",
    "\n",
    "\n",
    "# 3. Private Access Modifier:\n",
    "# Description: Private attributes and methods are intended to be accessible only within the class itself. They are not accessible directly from outside the class.\n",
    "# How it's denoted: Private attributes and methods are prefixed with a double underscore __. Python implements name mangling to make it harder (but not impossible) to access private attributes from outside the class.\n",
    "\n",
    "# Example:\n",
    "class Car:\n",
    "    def __init__(self, make, model):\n",
    "        self.__make = make  \n",
    "        self.__model = model \n",
    "\n",
    "    def __display_info(self): \n",
    "        print(f\"{self.__make} {self.__model}\")\n",
    "\n",
    "    def show_info(self):\n",
    "       \n",
    "        self.__display_info()\n",
    "\n",
    "my_car = Car(\"Toyota\", \"Camry\")\n",
    "my_car.show_info()  \n"
   ]
  },
  {
   "cell_type": "markdown",
   "id": "8f17acd4-c90e-4313-8de9-2aa5a9e14362",
   "metadata": {},
   "source": [
    "##### 6. Describe the five types of inheritance in Python. Provide a simple example of multiple inheritance."
   ]
  },
  {
   "cell_type": "code",
   "execution_count": 6,
   "id": "a97f4cd8-089b-44e2-8cd1-e39013169c00",
   "metadata": {},
   "outputs": [
    {
     "name": "stdout",
     "output_type": "stream",
     "text": [
      "Father: Tall and Intelligent\n"
     ]
    }
   ],
   "source": [
    "# Five Types of Inheritance in Python:\n",
    "    \n",
    "# 1.Single Inheritance:\n",
    "# Description: A class inherits from a single parent class. This is the simplest form of inheritance.\n",
    "\n",
    "# 2.Multiple Inheritance:\n",
    "# Description: A class inherits from more than one parent class. This allows a child class to inherit attributes and methods from multiple parent classes.\n",
    "\n",
    "# 3.Multilevel Inheritance:\n",
    "# Description: A class inherits from a parent class, which in turn inherits from another parent class, forming a chain of inheritance.\n",
    "\n",
    "# 4.Hierarchical Inheritance:\n",
    "# Description: Multiple child classes inherit from the same parent class. This allows different classes to share the same attributes and methods of the parent class.\n",
    "\n",
    "# 5.Hybrid Inheritance:\n",
    "# Description: A combination of two or more types of inheritance. For example, it could involve both multiple and hierarchical inheritance.\n",
    "\n",
    "# Example of Multiple Inheritance:\n",
    "class Father:\n",
    "    def traits(self):\n",
    "        print(\"Father: Tall and Intelligent\")\n",
    "\n",
    "class Mother:\n",
    "    def traits(self):\n",
    "        print(\"Mother: Kind and Artistic\")\n",
    "\n",
    "class Child(Father, Mother):\n",
    "    def display_traits(self):\n",
    "        self.traits() \n",
    "\n",
    "child = Child()\n",
    "child.display_traits() "
   ]
  },
  {
   "cell_type": "markdown",
   "id": "5b820816-6db2-4399-ac99-48a84895cbba",
   "metadata": {},
   "source": [
    "##### 7. What is the Method Resolution Order (MRO) in Python? How can you retrieve it programmatically?"
   ]
  },
  {
   "cell_type": "code",
   "execution_count": null,
   "id": "b2dcd6f8-f6a9-4ed9-95bb-838385b89362",
   "metadata": {},
   "outputs": [],
   "source": [
    "# Method Resolution Order (MRO) in Python:\n",
    "# The Method Resolution Order (MRO) in Python defines the order in which methods are inherited and called in the presence of multiple inheritance. It ensures that the correct method is invoked when a method is called on an object, especially in cases where multiple parent classes might have methods with the same name.\n",
    "\n",
    "# Python uses the C3 linearization algorithm (also known as the C3 superclass linearization) to determine the MRO. The algorithm ensures that a consistent and predictable method order is followed, respecting the order of inheritance and preventing conflicts.\n",
    "\n",
    "# Key Points about MRO:\n",
    "# Left-to-right: In a class hierarchy with multiple inheritance, the MRO follows the order in which parent classes are listed.\n",
    "# Depth-first: Python checks the parent classes first before moving to the next class in the hierarchy.\n",
    "# MRO hierarchy: MRO ensures that the correct method is found, even if the same method exists in multiple parent classes."
   ]
  },
  {
   "cell_type": "markdown",
   "id": "2447c9b7-850a-429d-90b1-6fa5b47a6ab5",
   "metadata": {},
   "source": [
    "##### 8. Create an abstract base class `Shape` with an abstract method `area()`. Then create two subclasses `Circle` and `Rectangle` that implement the `area()` method."
   ]
  },
  {
   "cell_type": "code",
   "execution_count": 7,
   "id": "2df6f882-9589-4eda-b2ea-3bb806e6e9fe",
   "metadata": {},
   "outputs": [
    {
     "name": "stdout",
     "output_type": "stream",
     "text": [
      "Circle Area: 78.53981633974483\n",
      "Rectangle Area: 24\n"
     ]
    }
   ],
   "source": [
    "# To create an abstract base class in Python, you use the abc (Abstract Base Classes) module. This allows you to define abstract methods that must be implemented by any subclass.\n",
    "# Here’s how you can create an abstract base class Shape with an abstract method area(), and two subclasses Circle and Rectangle that implement the area() method:\n",
    "\n",
    "from abc import ABC, abstractmethod\n",
    "import math\n",
    "\n",
    "# Abstract Base Class\n",
    "class Shape(ABC):\n",
    "    @abstractmethod\n",
    "    def area(self):\n",
    "        pass\n",
    "\n",
    "# Subclass for Circle\n",
    "class Circle(Shape):\n",
    "    def __init__(self, radius):\n",
    "        self.radius = radius\n",
    "    \n",
    "    def area(self):\n",
    "        return math.pi * self.radius ** 2\n",
    "\n",
    "# Subclass for Rectangle\n",
    "class Rectangle(Shape):\n",
    "    def __init__(self, width, height):\n",
    "        self.width = width\n",
    "        self.height = height\n",
    "    \n",
    "    def area(self):\n",
    "        return self.width * self.height\n",
    "\n",
    "circle = Circle(5)\n",
    "rectangle = Rectangle(4, 6)\n",
    "\n",
    "print(f\"Circle Area: {circle.area()}\") \n",
    "print(f\"Rectangle Area: {rectangle.area()}\")  \n"
   ]
  },
  {
   "cell_type": "markdown",
   "id": "e3765a6f-128b-4959-baa8-027b0ff497b5",
   "metadata": {},
   "source": [
    "##### 9. Demonstrate polymorphism by creating a function that can work with different shape objects to calculate and print their areas."
   ]
  },
  {
   "cell_type": "code",
   "execution_count": 8,
   "id": "3e149373-4737-47b9-9aff-2ad456869e24",
   "metadata": {},
   "outputs": [
    {
     "name": "stdout",
     "output_type": "stream",
     "text": [
      "The area of the shape is: 78.53981633974483\n",
      "The area of the shape is: 24\n"
     ]
    }
   ],
   "source": [
    "# Demonstrating Polymorphism with a Function:\n",
    "# Polymorphism allows you to write a function that can operate on different types of objects, as long as those objects share a common interface (e.g., having the same method). In this case, we can create a function that works with different shape objects (like Circle and Rectangle) and calculates their areas.\n",
    "\n",
    "# Here's an example:\n",
    "\n",
    "from abc import ABC, abstractmethod\n",
    "import math\n",
    "\n",
    "# Abstract Base Class\n",
    "class Shape(ABC):\n",
    "    @abstractmethod\n",
    "    def area(self):\n",
    "        pass\n",
    "\n",
    "# Subclass for Circle\n",
    "class Circle(Shape):\n",
    "    def __init__(self, radius):\n",
    "        self.radius = radius\n",
    "    \n",
    "    def area(self):\n",
    "        return math.pi * self.radius ** 2\n",
    "\n",
    "# Subclass for Rectangle\n",
    "class Rectangle(Shape):\n",
    "    def __init__(self, width, height):\n",
    "        self.width = width\n",
    "        self.height = height\n",
    "    \n",
    "    def area(self):\n",
    "        return self.width * self.height\n",
    "\n",
    "# Polymorphic function to calculate area\n",
    "def print_area(shape):\n",
    "    print(f\"The area of the shape is: {shape.area()}\")\n",
    "\n",
    "# Creating different shape objects\n",
    "circle = Circle(5)\n",
    "rectangle = Rectangle(4, 6)\n",
    "\n",
    "# Using the polymorphic function\n",
    "print_area(circle)     # Output: The area of the shape is: 78.53981633974483\n",
    "print_area(rectangle)  # Output: The area of the shape is: 24\n"
   ]
  },
  {
   "cell_type": "markdown",
   "id": "b74310a1-0c39-4989-87b4-a25ae3406ad8",
   "metadata": {},
   "source": [
    "##### 10. Implement encapsulation in a `BankAccount` class with private attributes for `balance` and `account_number`. Include methods for deposit, withdrawal, and balance inquiry."
   ]
  },
  {
   "cell_type": "code",
   "execution_count": 11,
   "id": "6b7a4649-4db1-464a-a658-ae4bc0c97401",
   "metadata": {},
   "outputs": [
    {
     "name": "stdout",
     "output_type": "stream",
     "text": [
      "Deposited: 5000. New balance: 75000\n",
      "Withdrew: 1050. New balance: 73950\n",
      "Current balance: 73950\n"
     ]
    },
    {
     "data": {
      "text/plain": [
       "73950"
      ]
     },
     "execution_count": 11,
     "metadata": {},
     "output_type": "execute_result"
    }
   ],
   "source": [
    "class BankAccount:\n",
    "    def __init__(self, account_number, initial_balance=0):\n",
    "        self.__account_number = account_number  # Private attribute\n",
    "        self.__balance = initial_balance  # Private attribute\n",
    "\n",
    "    def deposit(self, amount):\n",
    "        if amount > 0:\n",
    "            self.__balance += amount\n",
    "            print(f\"Deposited: {amount}. New balance: {self.__balance}\")\n",
    "        else:\n",
    "            print(\"Deposit amount must be positive.\")\n",
    "\n",
    "    def withdraw(self, amount):\n",
    "        if amount > 0:\n",
    "            if self.__balance >= amount:\n",
    "                self.__balance -= amount\n",
    "                print(f\"Withdrew: {amount}. New balance: {self.__balance}\")\n",
    "            else:\n",
    "                print(\"Insufficient funds.\")\n",
    "        else:\n",
    "            print(\"Withdrawal amount must be positive.\")\n",
    "\n",
    "    def get_balance(self):\n",
    "        print(f\"Current balance: {self.__balance}\")\n",
    "        return self.__balance\n",
    "\n",
    "    def get_account_number(self):\n",
    "        # Providing a way to access account number if needed\n",
    "        return self.__account_number\n",
    "\n",
    "# Example usage\n",
    "account = BankAccount(\"123456789\", 70000)\n",
    "\n",
    "# Depositing money\n",
    "account.deposit(5000)\n",
    "\n",
    "# Withdrawing money\n",
    "account.withdraw(1050)  \n",
    "\n",
    "# Checking balance\n",
    "account.get_balance()  \n",
    "# Accessing private attributes (this would fail)\n",
    "# print(account.__balance)  # AttributeError: 'BankAccount' object has no attribute '__balance'\n",
    "# print(account.__account_number)  # AttributeError: 'BankAccount' object has no attribute '__account_number'\n"
   ]
  },
  {
   "cell_type": "markdown",
   "id": "eeacfd8b-7f7b-4b17-9512-46244ddebc73",
   "metadata": {},
   "source": [
    "##### 11. Write a class that overrides the `__str__` and `__add__` magic methods. What will these methods allow you to do?"
   ]
  },
  {
   "cell_type": "code",
   "execution_count": 12,
   "id": "bc3adf42-b2cb-433f-a0f3-94950cd028e6",
   "metadata": {},
   "outputs": [
    {
     "name": "stdout",
     "output_type": "stream",
     "text": [
      "Vector(2, 3)\n",
      "Vector(4, 5)\n",
      "Vector(6, 8)\n"
     ]
    }
   ],
   "source": [
    "# In Python, special methods (often referred to as \"magic methods\" or \"dunder methods\") allow you to define how instances of your classes behave with built-in functions and operators. The __str__ and __add__ methods are two such magic methods that you can override to customize the behavior of your objects.\n",
    "\n",
    "class Vector:\n",
    "    def __init__(self, x, y):\n",
    "        self.x = x\n",
    "        self.y = y\n",
    "\n",
    "    def __str__(self):\n",
    "        # Return a user-friendly string representation of the object\n",
    "        return f\"Vector({self.x}, {self.y})\"\n",
    "\n",
    "    def __add__(self, other):\n",
    "        if isinstance(other, Vector):\n",
    "            # Perform vector addition and return a new Vector instance\n",
    "            return Vector(self.x + other.x, self.y + other.y)\n",
    "        return NotImplemented\n",
    "\n",
    "# Example usage\n",
    "v1 = Vector(2, 3)\n",
    "v2 = Vector(4, 5)\n",
    "\n",
    "print(v1)            # Output: Vector(2, 3)\n",
    "print(v2)            # Output: Vector(4, 5)\n",
    "\n",
    "v3 = v1 + v2\n",
    "print(v3)            # Output: Vector(6, 8)"
   ]
  },
  {
   "cell_type": "markdown",
   "id": "6668d120-1ca3-45d2-9c42-bc9766aea863",
   "metadata": {},
   "source": [
    "##### 12. Create a decorator that measures and prints the execution time of a function."
   ]
  },
  {
   "cell_type": "code",
   "execution_count": 14,
   "id": "ec9b6354-aabb-414b-b8d6-0354a0e769fa",
   "metadata": {},
   "outputs": [
    {
     "name": "stdout",
     "output_type": "stream",
     "text": [
      "Execution time for sample_function: 0.067839 seconds\n"
     ]
    },
    {
     "data": {
      "text/plain": [
       "499999500000"
      ]
     },
     "execution_count": 14,
     "metadata": {},
     "output_type": "execute_result"
    }
   ],
   "source": [
    "import time\n",
    "\n",
    "def timing_decorator(func):\n",
    "    def wrapper(*args, **kwargs):\n",
    "        start_time = time.time()  # Record the start time\n",
    "        result = func(*args, **kwargs)  # Call the original function\n",
    "        end_time = time.time()  # Record the end time\n",
    "        execution_time = end_time - start_time  # Calculate the execution time\n",
    "        print(f\"Execution time for {func.__name__}: {execution_time:.6f} seconds\")\n",
    "        return result\n",
    "    return wrapper\n",
    "\n",
    "@timing_decorator\n",
    "def sample_function(n):\n",
    "    total = 0\n",
    "    for i in range(n):\n",
    "        total += i\n",
    "    return total\n",
    "\n",
    "sample_function(1000000) \n"
   ]
  },
  {
   "cell_type": "markdown",
   "id": "c04e461c-20c6-4f97-b169-9e16e2c1e4b3",
   "metadata": {},
   "source": [
    "##### 13. Explain the concept of the Diamond Problem in multiple inheritance. How does Python resolve it?"
   ]
  },
  {
   "cell_type": "code",
   "execution_count": 16,
   "id": "4444e784-5184-404c-8c24-2a70594d3f80",
   "metadata": {},
   "outputs": [
    {
     "name": "stdout",
     "output_type": "stream",
     "text": [
      "[<class '__main__.D'>, <class '__main__.B'>, <class '__main__.C'>, <class '__main__.A'>, <class 'object'>]\n",
      "Method in B\n"
     ]
    }
   ],
   "source": [
    "# The Diamond Problem in Multiple Inheritance:\n",
    "# The Diamond Problem is a complication that arises in multiple inheritance scenarios in object-oriented programming. It occurs when a class inherits from two classes that have a common base class, creating a diamond-shaped inheritance hierarchy. This can lead to ambiguity and conflicts in the method resolution order, specifically when determining which method from the base class should be executed.\n",
    "\n",
    "# Example:\n",
    "\n",
    "class A:\n",
    "    def method(self):\n",
    "        print(\"Method in A\")\n",
    "\n",
    "class B(A):\n",
    "    def method(self):\n",
    "        print(\"Method in B\")\n",
    "\n",
    "class C(A):\n",
    "    def method(self):\n",
    "        print(\"Method in C\")\n",
    "\n",
    "class D(B, C):\n",
    "    pass\n",
    "\n",
    "# Check MRO\n",
    "print(D.mro())  \n",
    "\n",
    "# Call method\n",
    "d = D()\n",
    "d.method() \n"
   ]
  },
  {
   "cell_type": "markdown",
   "id": "6379715a-3310-40a4-8c17-deb5b7dfeb92",
   "metadata": {},
   "source": [
    "##### 14. Write a class method that keeps track of the number of instances created from a class."
   ]
  },
  {
   "cell_type": "code",
   "execution_count": 18,
   "id": "997ed721-08b2-421d-ba82-0488acbd1386",
   "metadata": {},
   "outputs": [
    {
     "name": "stdout",
     "output_type": "stream",
     "text": [
      "Number of instances created: 3\n"
     ]
    }
   ],
   "source": [
    "# To keep track of the number of instances created from a class, you can use a class attribute to count instances and a class method to access or modify this count. Here’s how you can implement such functionality:\n",
    "\n",
    "# Implementation:\n",
    "# Class Attribute: Define a class attribute to keep track of the number of instances.\n",
    "# Class Method: Define a class method to return the current count of instances.\n",
    "# Constructor: Increment the instance count each time a new instance is created.\n",
    "\n",
    "# Here’s an example:\n",
    "class InstanceCounter:\n",
    "    # Class attribute to keep track of the number of instances\n",
    "    _instance_count = 0\n",
    "\n",
    "    def __init__(self):\n",
    "        # Increment the instance count each time a new instance is created\n",
    "        InstanceCounter._instance_count += 1\n",
    "\n",
    "    @classmethod\n",
    "    def get_instance_count(cls):\n",
    "        # Class method to get the number of instances created\n",
    "        return cls._instance_count\n",
    "\n",
    "# Example usage\n",
    "obj1 = InstanceCounter()\n",
    "obj2 = InstanceCounter()\n",
    "obj3 = InstanceCounter()\n",
    "\n",
    "print(f\"Number of instances created: {InstanceCounter.get_instance_count()}\") \n"
   ]
  },
  {
   "cell_type": "markdown",
   "id": "34cf2762-9ef7-460e-ba19-cb097f7c1aba",
   "metadata": {},
   "source": [
    "##### 15. Implement a static method in a class that checks if a given year is a leap year."
   ]
  },
  {
   "cell_type": "code",
   "execution_count": 19,
   "id": "998331fd-bf1c-43e6-9887-3a5b81d8394b",
   "metadata": {},
   "outputs": [
    {
     "name": "stdout",
     "output_type": "stream",
     "text": [
      "True\n",
      "False\n",
      "True\n",
      "False\n"
     ]
    }
   ],
   "source": [
    "class YearUtils:\n",
    "    @staticmethod\n",
    "    def is_leap_year(year):\n",
    "        # Check if the given year is a leap year\n",
    "        if (year % 4 == 0):\n",
    "            if (year % 100 == 0):\n",
    "                if (year % 400 == 0):\n",
    "                    return True\n",
    "                else:\n",
    "                    return False\n",
    "            else:\n",
    "                return True\n",
    "        else:\n",
    "            return False\n",
    "\n",
    "# Example usage\n",
    "print(YearUtils.is_leap_year(2000))  \n",
    "print(YearUtils.is_leap_year(1900)) \n",
    "print(YearUtils.is_leap_year(2024))  \n",
    "print(YearUtils.is_leap_year(2023))  "
   ]
  },
  {
   "cell_type": "code",
   "execution_count": null,
   "id": "386bd8ac-8d12-4528-9d55-3ea4bd454974",
   "metadata": {},
   "outputs": [],
   "source": []
  }
 ],
 "metadata": {
  "kernelspec": {
   "display_name": "Python 3 (ipykernel)",
   "language": "python",
   "name": "python3"
  },
  "language_info": {
   "codemirror_mode": {
    "name": "ipython",
    "version": 3
   },
   "file_extension": ".py",
   "mimetype": "text/x-python",
   "name": "python",
   "nbconvert_exporter": "python",
   "pygments_lexer": "ipython3",
   "version": "3.10.8"
  }
 },
 "nbformat": 4,
 "nbformat_minor": 5
}
